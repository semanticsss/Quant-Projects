{
 "cells": [
  {
   "cell_type": "code",
   "execution_count": null,
   "metadata": {},
   "outputs": [],
   "source": [
    "# bit_length() gives number of bits needed to represent number\n",
    "\n",
    "a = 10\n",
    "print(a.bitlength())\n",
    "\n",
    "#floats are repesented by summation\n",
    "#python stores rational floats as a/b where a,b are 64 bits long\n",
    "#Decimal library allows for hella rounding specifications\n",
    "#.split splits the string into words and gives a list\n",
    "#to insert integers or floats into a string, use \"string{:d}\".format(15) or like string{:s}.format('hello')\n",
    "#triple quotation lets you define strings over many lines\n",
    "#regular expressions can like define the format of something in a hard to read string and the find it and stuff\n",
    "#"
   ]
  }
 ],
 "metadata": {
  "language_info": {
   "name": "python"
  }
 },
 "nbformat": 4,
 "nbformat_minor": 2
}
